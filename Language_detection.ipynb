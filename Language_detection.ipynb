{
  "nbformat": 4,
  "nbformat_minor": 0,
  "metadata": {
    "colab": {
      "provenance": []
    },
    "kernelspec": {
      "name": "python3",
      "display_name": "Python 3"
    },
    "language_info": {
      "name": "python"
    }
  },
  "cells": [
    {
      "cell_type": "code",
      "metadata": {
        "colab": {
          "base_uri": "https://localhost:8080/"
        },
        "id": "jJ7EFh84LkcI",
        "outputId": "01260696-ba31-4687-ad64-38bcdac421e2"
      },
      "source": [
        "!pip install spacy-langdetect\n",
        "from spacy_langdetect import LanguageDetector"
      ],
      "execution_count": null,
      "outputs": [
        {
          "output_type": "stream",
          "name": "stdout",
          "text": [
            "Collecting spacy-langdetect\n",
            "  Downloading spacy_langdetect-0.1.2-py3-none-any.whl (5.0 kB)\n",
            "Collecting langdetect==1.0.7\n",
            "  Downloading langdetect-1.0.7.zip (998 kB)\n",
            "\u001b[?25l\r\u001b[K     |▎                               | 10 kB 24.2 MB/s eta 0:00:01\r\u001b[K     |▋                               | 20 kB 26.9 MB/s eta 0:00:01\r\u001b[K     |█                               | 30 kB 31.9 MB/s eta 0:00:01\r\u001b[K     |█▎                              | 40 kB 35.9 MB/s eta 0:00:01\r\u001b[K     |█▋                              | 51 kB 37.5 MB/s eta 0:00:01\r\u001b[K     |██                              | 61 kB 26.8 MB/s eta 0:00:01\r\u001b[K     |██▎                             | 71 kB 28.5 MB/s eta 0:00:01\r\u001b[K     |██▋                             | 81 kB 28.7 MB/s eta 0:00:01\r\u001b[K     |███                             | 92 kB 30.6 MB/s eta 0:00:01\r\u001b[K     |███▎                            | 102 kB 32.8 MB/s eta 0:00:01\r\u001b[K     |███▋                            | 112 kB 32.8 MB/s eta 0:00:01\r\u001b[K     |████                            | 122 kB 32.8 MB/s eta 0:00:01\r\u001b[K     |████▎                           | 133 kB 32.8 MB/s eta 0:00:01\r\u001b[K     |████▋                           | 143 kB 32.8 MB/s eta 0:00:01\r\u001b[K     |█████                           | 153 kB 32.8 MB/s eta 0:00:01\r\u001b[K     |█████▎                          | 163 kB 32.8 MB/s eta 0:00:01\r\u001b[K     |█████▋                          | 174 kB 32.8 MB/s eta 0:00:01\r\u001b[K     |██████                          | 184 kB 32.8 MB/s eta 0:00:01\r\u001b[K     |██████▎                         | 194 kB 32.8 MB/s eta 0:00:01\r\u001b[K     |██████▋                         | 204 kB 32.8 MB/s eta 0:00:01\r\u001b[K     |███████                         | 215 kB 32.8 MB/s eta 0:00:01\r\u001b[K     |███████▎                        | 225 kB 32.8 MB/s eta 0:00:01\r\u001b[K     |███████▌                        | 235 kB 32.8 MB/s eta 0:00:01\r\u001b[K     |███████▉                        | 245 kB 32.8 MB/s eta 0:00:01\r\u001b[K     |████████▏                       | 256 kB 32.8 MB/s eta 0:00:01\r\u001b[K     |████████▌                       | 266 kB 32.8 MB/s eta 0:00:01\r\u001b[K     |████████▉                       | 276 kB 32.8 MB/s eta 0:00:01\r\u001b[K     |█████████▏                      | 286 kB 32.8 MB/s eta 0:00:01\r\u001b[K     |█████████▌                      | 296 kB 32.8 MB/s eta 0:00:01\r\u001b[K     |█████████▉                      | 307 kB 32.8 MB/s eta 0:00:01\r\u001b[K     |██████████▏                     | 317 kB 32.8 MB/s eta 0:00:01\r\u001b[K     |██████████▌                     | 327 kB 32.8 MB/s eta 0:00:01\r\u001b[K     |██████████▉                     | 337 kB 32.8 MB/s eta 0:00:01\r\u001b[K     |███████████▏                    | 348 kB 32.8 MB/s eta 0:00:01\r\u001b[K     |███████████▌                    | 358 kB 32.8 MB/s eta 0:00:01\r\u001b[K     |███████████▉                    | 368 kB 32.8 MB/s eta 0:00:01\r\u001b[K     |████████████▏                   | 378 kB 32.8 MB/s eta 0:00:01\r\u001b[K     |████████████▌                   | 389 kB 32.8 MB/s eta 0:00:01\r\u001b[K     |████████████▉                   | 399 kB 32.8 MB/s eta 0:00:01\r\u001b[K     |█████████████▏                  | 409 kB 32.8 MB/s eta 0:00:01\r\u001b[K     |█████████████▌                  | 419 kB 32.8 MB/s eta 0:00:01\r\u001b[K     |█████████████▉                  | 430 kB 32.8 MB/s eta 0:00:01\r\u001b[K     |██████████████▏                 | 440 kB 32.8 MB/s eta 0:00:01\r\u001b[K     |██████████████▌                 | 450 kB 32.8 MB/s eta 0:00:01\r\u001b[K     |██████████████▊                 | 460 kB 32.8 MB/s eta 0:00:01\r\u001b[K     |███████████████                 | 471 kB 32.8 MB/s eta 0:00:01\r\u001b[K     |███████████████▍                | 481 kB 32.8 MB/s eta 0:00:01\r\u001b[K     |███████████████▊                | 491 kB 32.8 MB/s eta 0:00:01\r\u001b[K     |████████████████                | 501 kB 32.8 MB/s eta 0:00:01\r\u001b[K     |████████████████▍               | 512 kB 32.8 MB/s eta 0:00:01\r\u001b[K     |████████████████▊               | 522 kB 32.8 MB/s eta 0:00:01\r\u001b[K     |█████████████████               | 532 kB 32.8 MB/s eta 0:00:01\r\u001b[K     |█████████████████▍              | 542 kB 32.8 MB/s eta 0:00:01\r\u001b[K     |█████████████████▊              | 552 kB 32.8 MB/s eta 0:00:01\r\u001b[K     |██████████████████              | 563 kB 32.8 MB/s eta 0:00:01\r\u001b[K     |██████████████████▍             | 573 kB 32.8 MB/s eta 0:00:01\r\u001b[K     |██████████████████▊             | 583 kB 32.8 MB/s eta 0:00:01\r\u001b[K     |███████████████████             | 593 kB 32.8 MB/s eta 0:00:01\r\u001b[K     |███████████████████▍            | 604 kB 32.8 MB/s eta 0:00:01\r\u001b[K     |███████████████████▊            | 614 kB 32.8 MB/s eta 0:00:01\r\u001b[K     |████████████████████            | 624 kB 32.8 MB/s eta 0:00:01\r\u001b[K     |████████████████████▍           | 634 kB 32.8 MB/s eta 0:00:01\r\u001b[K     |████████████████████▊           | 645 kB 32.8 MB/s eta 0:00:01\r\u001b[K     |█████████████████████           | 655 kB 32.8 MB/s eta 0:00:01\r\u001b[K     |█████████████████████▍          | 665 kB 32.8 MB/s eta 0:00:01\r\u001b[K     |█████████████████████▊          | 675 kB 32.8 MB/s eta 0:00:01\r\u001b[K     |██████████████████████          | 686 kB 32.8 MB/s eta 0:00:01\r\u001b[K     |██████████████████████▎         | 696 kB 32.8 MB/s eta 0:00:01\r\u001b[K     |██████████████████████▋         | 706 kB 32.8 MB/s eta 0:00:01\r\u001b[K     |███████████████████████         | 716 kB 32.8 MB/s eta 0:00:01\r\u001b[K     |███████████████████████▎        | 727 kB 32.8 MB/s eta 0:00:01\r\u001b[K     |███████████████████████▋        | 737 kB 32.8 MB/s eta 0:00:01\r\u001b[K     |████████████████████████        | 747 kB 32.8 MB/s eta 0:00:01\r\u001b[K     |████████████████████████▎       | 757 kB 32.8 MB/s eta 0:00:01\r\u001b[K     |████████████████████████▋       | 768 kB 32.8 MB/s eta 0:00:01\r\u001b[K     |█████████████████████████       | 778 kB 32.8 MB/s eta 0:00:01\r\u001b[K     |█████████████████████████▎      | 788 kB 32.8 MB/s eta 0:00:01\r\u001b[K     |█████████████████████████▋      | 798 kB 32.8 MB/s eta 0:00:01\r\u001b[K     |██████████████████████████      | 808 kB 32.8 MB/s eta 0:00:01\r\u001b[K     |██████████████████████████▎     | 819 kB 32.8 MB/s eta 0:00:01\r\u001b[K     |██████████████████████████▋     | 829 kB 32.8 MB/s eta 0:00:01\r\u001b[K     |███████████████████████████     | 839 kB 32.8 MB/s eta 0:00:01\r\u001b[K     |███████████████████████████▎    | 849 kB 32.8 MB/s eta 0:00:01\r\u001b[K     |███████████████████████████▋    | 860 kB 32.8 MB/s eta 0:00:01\r\u001b[K     |████████████████████████████    | 870 kB 32.8 MB/s eta 0:00:01\r\u001b[K     |████████████████████████████▎   | 880 kB 32.8 MB/s eta 0:00:01\r\u001b[K     |████████████████████████████▋   | 890 kB 32.8 MB/s eta 0:00:01\r\u001b[K     |█████████████████████████████   | 901 kB 32.8 MB/s eta 0:00:01\r\u001b[K     |█████████████████████████████▏  | 911 kB 32.8 MB/s eta 0:00:01\r\u001b[K     |█████████████████████████████▌  | 921 kB 32.8 MB/s eta 0:00:01\r\u001b[K     |█████████████████████████████▉  | 931 kB 32.8 MB/s eta 0:00:01\r\u001b[K     |██████████████████████████████▏ | 942 kB 32.8 MB/s eta 0:00:01\r\u001b[K     |██████████████████████████████▌ | 952 kB 32.8 MB/s eta 0:00:01\r\u001b[K     |██████████████████████████████▉ | 962 kB 32.8 MB/s eta 0:00:01\r\u001b[K     |███████████████████████████████▏| 972 kB 32.8 MB/s eta 0:00:01\r\u001b[K     |███████████████████████████████▌| 983 kB 32.8 MB/s eta 0:00:01\r\u001b[K     |███████████████████████████████▉| 993 kB 32.8 MB/s eta 0:00:01\r\u001b[K     |████████████████████████████████| 998 kB 32.8 MB/s \n",
            "\u001b[?25hRequirement already satisfied: pytest in /usr/local/lib/python3.7/dist-packages (from spacy-langdetect) (3.6.4)\n",
            "Requirement already satisfied: six in /usr/local/lib/python3.7/dist-packages (from langdetect==1.0.7->spacy-langdetect) (1.15.0)\n",
            "Requirement already satisfied: attrs>=17.4.0 in /usr/local/lib/python3.7/dist-packages (from pytest->spacy-langdetect) (21.2.0)\n",
            "Requirement already satisfied: py>=1.5.0 in /usr/local/lib/python3.7/dist-packages (from pytest->spacy-langdetect) (1.11.0)\n",
            "Requirement already satisfied: setuptools in /usr/local/lib/python3.7/dist-packages (from pytest->spacy-langdetect) (57.4.0)\n",
            "Requirement already satisfied: pluggy<0.8,>=0.5 in /usr/local/lib/python3.7/dist-packages (from pytest->spacy-langdetect) (0.7.1)\n",
            "Requirement already satisfied: atomicwrites>=1.0 in /usr/local/lib/python3.7/dist-packages (from pytest->spacy-langdetect) (1.4.0)\n",
            "Requirement already satisfied: more-itertools>=4.0.0 in /usr/local/lib/python3.7/dist-packages (from pytest->spacy-langdetect) (8.11.0)\n",
            "Building wheels for collected packages: langdetect\n",
            "  Building wheel for langdetect (setup.py) ... \u001b[?25l\u001b[?25hdone\n",
            "  Created wheel for langdetect: filename=langdetect-1.0.7-py3-none-any.whl size=993430 sha256=2a9f8b1acee7e6062f31c91629817c1a1df5657211dcc75c25b4bf11ce3864d3\n",
            "  Stored in directory: /root/.cache/pip/wheels/89/79/3b/9885ae7f4308f73c514f96d8574d40d7d8173a27731b674013\n",
            "Successfully built langdetect\n",
            "Installing collected packages: langdetect, spacy-langdetect\n",
            "Successfully installed langdetect-1.0.7 spacy-langdetect-0.1.2\n"
          ]
        }
      ]
    },
    {
      "cell_type": "code",
      "metadata": {
        "colab": {
          "base_uri": "https://localhost:8080/"
        },
        "id": "-Ldcgc_6NEHm",
        "outputId": "8167ee97-1b8c-4982-c0dd-538a899a0a37"
      },
      "source": [
        "import spacy\n",
        "nlp = spacy.load('en')  # 1\n",
        "nlp.add_pipe(LanguageDetector(), name='language_detector', last=True) #2\n",
        "text_content = \"Er lebt mit seinen Eltern und seiner Schwester in Berlin.\"\n",
        "doc = nlp(text_content) #3\n",
        "detect_language = doc._.language #4\n",
        "print(detect_language)\n",
        "\n"
      ],
      "execution_count": null,
      "outputs": [
        {
          "output_type": "stream",
          "name": "stdout",
          "text": [
            "{'language': 'de', 'score': 0.999997922507944}\n"
          ]
        }
      ]
    },
    {
      "cell_type": "code",
      "metadata": {
        "id": "ReUoVg4ELlmx",
        "colab": {
          "base_uri": "https://localhost:8080/"
        },
        "outputId": "f535e8ea-f903-4fbc-96b6-ad995143ca98"
      },
      "source": [
        "text_content = \"Namaskar\"\n",
        "doc = nlp(text_content) #3\n",
        "detect_language = doc._.language #4\n",
        "print(detect_language)"
      ],
      "execution_count": null,
      "outputs": [
        {
          "output_type": "stream",
          "name": "stdout",
          "text": [
            "{'language': 'id', 'score': 0.8571382079679548}\n"
          ]
        }
      ]
    },
    {
      "cell_type": "code",
      "metadata": {
        "colab": {
          "base_uri": "https://localhost:8080/"
        },
        "id": "F4AzNfOipNCI",
        "outputId": "40f80519-e95b-4793-c429-08ef9259b05d"
      },
      "source": [
        "import spacy\n",
        "from spacy_langdetect import LanguageDetector\n",
        "nlp = spacy.load('en')\n",
        "nlp.add_pipe(LanguageDetector(), name='language_detector', last=True)\n",
        "text = '🤣🤣🤣🤣🤣'\n",
        "doc = nlp(text)\n",
        "# document level language detection. Think of it like average language of the document!\n",
        "print(doc._.language)\n",
        "# sentence level language detection\n",
        "for sent in doc.sents:\n",
        "   print(sent, sent._.language)"
      ],
      "execution_count": null,
      "outputs": [
        {
          "output_type": "stream",
          "name": "stdout",
          "text": [
            "{'language': 'UNKNOWN', 'score': 0.0}\n",
            "🤣🤣🤣🤣🤣 {'language': 'UNKNOWN', 'score': 0.0}\n"
          ]
        }
      ]
    },
    {
      "cell_type": "code",
      "metadata": {
        "id": "Q5fnOgc3piaY"
      },
      "source": [],
      "execution_count": null,
      "outputs": []
    }
  ]
}